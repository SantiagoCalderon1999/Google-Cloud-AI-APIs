{
 "cells": [
  {
   "cell_type": "code",
   "execution_count": 1,
   "id": "9d4a704a-7957-4aeb-9fe8-1837c12c1ac3",
   "metadata": {},
   "outputs": [
    {
     "ename": "ModuleNotFoundError",
     "evalue": "No module named 'google.cloud'",
     "output_type": "error",
     "traceback": [
      "\u001b[1;31m---------------------------------------------------------------------------\u001b[0m",
      "\u001b[1;31mModuleNotFoundError\u001b[0m                       Traceback (most recent call last)",
      "Cell \u001b[1;32mIn[1], line 1\u001b[0m\n\u001b[1;32m----> 1\u001b[0m \u001b[38;5;28;01mfrom\u001b[39;00m \u001b[38;5;21;01mgoogle\u001b[39;00m\u001b[38;5;21;01m.\u001b[39;00m\u001b[38;5;21;01mcloud\u001b[39;00m \u001b[38;5;28;01mimport\u001b[39;00m language\n\u001b[0;32m      3\u001b[0m \u001b[38;5;28;01mdef\u001b[39;00m \u001b[38;5;21manalyze_text_sentiment\u001b[39m(text: \u001b[38;5;28mstr\u001b[39m) \u001b[38;5;241m-\u001b[39m\u001b[38;5;241m>\u001b[39m language\u001b[38;5;241m.\u001b[39mAnalyzeSentimentResponse:\n\u001b[0;32m      4\u001b[0m     client \u001b[38;5;241m=\u001b[39m language\u001b[38;5;241m.\u001b[39mLanguageServiceClient()\n",
      "\u001b[1;31mModuleNotFoundError\u001b[0m: No module named 'google.cloud'"
     ]
    }
   ],
   "source": [
    "from google.cloud import language\n",
    "\n",
    "def analyze_text_sentiment(text: str) -> language.AnalyzeSentimentResponse:\n",
    "    client = language.LanguageServiceClient()\n",
    "    document = language.Document(\n",
    "        content=text,\n",
    "        type_=language.Document.Type.PLAIN_TEXT,\n",
    "    )\n",
    "    return client.analyze_sentiment(document=document)\n",
    "\n",
    "def show_text_sentiment(response: language.AnalyzeSentimentResponse):\n",
    "    import pandas as pd\n",
    "\n",
    "    columns = [\"score\", \"sentence\"]\n",
    "    data = [(s.sentiment.score, s.text.content) for s in response.sentences]\n",
    "    df_sentence = pd.DataFrame(columns=columns, data=data)\n",
    "\n",
    "    sentiment = response.document_sentiment\n",
    "    columns = [\"score\", \"magnitude\", \"language\"]\n",
    "    data = [(sentiment.score, sentiment.magnitude, response.language)]\n",
    "    df_document = pd.DataFrame(columns=columns, data=data)\n",
    "\n",
    "    format_args = dict(index=False, tablefmt=\"presto\", floatfmt=\"+.1f\")\n",
    "    print(f\"At sentence level:\\n{df_sentence.to_markdown(**format_args)}\")\n",
    "    print()\n",
    "    print(f\"At document level:\\n{df_document.to_markdown(**format_args)}\")"
   ]
  },
  {
   "cell_type": "code",
   "execution_count": 1,
   "id": "dba3a04b-1dfa-4874-a8e9-d8edffb9e47f",
   "metadata": {},
   "outputs": [
    {
     "ename": "ModuleNotFoundError",
     "evalue": "No module named 'google'",
     "output_type": "error",
     "traceback": [
      "\u001b[1;31m---------------------------------------------------------------------------\u001b[0m",
      "\u001b[1;31mModuleNotFoundError\u001b[0m                       Traceback (most recent call last)",
      "Cell \u001b[1;32mIn[1], line 1\u001b[0m\n\u001b[1;32m----> 1\u001b[0m \u001b[38;5;28;01mfrom\u001b[39;00m \u001b[38;5;21;01mgoogle\u001b[39;00m\u001b[38;5;21;01m.\u001b[39;00m\u001b[38;5;21;01mcloud\u001b[39;00m \u001b[38;5;28;01mimport\u001b[39;00m language\n",
      "\u001b[1;31mModuleNotFoundError\u001b[0m: No module named 'google'"
     ]
    }
   ],
   "source": [
    "from google.cloud import language"
   ]
  }
 ],
 "metadata": {
  "kernelspec": {
   "display_name": "Python 3.8",
   "language": "python",
   "name": "python3.8"
  },
  "language_info": {
   "codemirror_mode": {
    "name": "ipython",
    "version": 3
   },
   "file_extension": ".py",
   "mimetype": "text/x-python",
   "name": "python",
   "nbconvert_exporter": "python",
   "pygments_lexer": "ipython3",
   "version": "3.10.9"
  }
 },
 "nbformat": 4,
 "nbformat_minor": 5
}
